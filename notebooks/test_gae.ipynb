{
 "cells": [
  {
   "cell_type": "markdown",
   "id": "60c576f0",
   "metadata": {},
   "source": [
    "# import packages and notebook utils"
   ]
  },
  {
   "cell_type": "code",
   "execution_count": 6,
   "id": "7a59488e",
   "metadata": {},
   "outputs": [],
   "source": [
    "import sys\n",
    "sys.path.append('../')\n",
    "\n",
    "from utils.visualize import coord2scatter, plot_edge_index, plot_trend\n",
    "from data.datasets import load_dataset\n",
    "from utils.utils import edge_cm\n",
    "from models import GAE\n",
    "\n",
    "import matplotlib.animation as animation\n",
    "import matplotlib.pyplot as plt\n",
    "%matplotlib notebook\n",
    "import numpy as np\n",
    "import torch\n",
    "import json\n",
    "import os\n",
    "import sys\n",
    "\n",
    "device = 'cuda'\n",
    "%matplotlib inline\n",
    "\n",
    "def create_log_dict(path: str):\n",
    "    folder_tree = list(os.walk(os.path.normpath(path)))\n",
    "    log_dict = dict()\n",
    "    for root, dirs, files in folder_tree:\n",
    "        if 'checkpoints' in dirs:\n",
    "            with open(root + '/args.txt') as json_file:\n",
    "                log_dict['args'] = json.load(json_file)\n",
    "            with open(root + '/valid_idx.txt') as json_file:\n",
    "                log_dict['valid_idx'] = json.load(json_file)\n",
    "            with open(root + '/test_idx.txt') as json_file:\n",
    "                log_dict['test_idx'] = json.load(json_file)\n",
    "        elif 'checkpoints' in root:\n",
    "            for file in files:\n",
    "                if 'best' in file:\n",
    "                    log_dict['ckpt_best'] = root + '\\\\' + file\n",
    "                elif 'last' in file:\n",
    "                    log_dict['ckpt_last'] = root + '\\\\' + file\n",
    "    return log_dict"
   ]
  },
  {
   "cell_type": "markdown",
   "id": "cf3e7a39",
   "metadata": {},
   "source": [
    "## enter the path of the model you want to test"
   ]
  },
  {
   "cell_type": "code",
   "execution_count": 7,
   "id": "1648f714",
   "metadata": {},
   "outputs": [],
   "source": [
    "path = '../log/gae/version_0/'"
   ]
  },
  {
   "cell_type": "markdown",
   "id": "80ba4793",
   "metadata": {},
   "source": [
    "## load model and datasets"
   ]
  },
  {
   "cell_type": "code",
   "execution_count": null,
   "id": "fcf5ee4b",
   "metadata": {},
   "outputs": [],
   "source": [
    "log_dict = create_log_dict(path)\n",
    "model = GAE.load_from_checkpoint(log_dict['ckpt_best']).to(device)\n",
    "dataset = load_dataset(\n",
    "    root='../data/',\n",
    "    dataset_name=log_dict['args']['dataset'],\n",
    "    num_graphs=log_dict['args']['num_graphs'],\n",
    "    min_n_nodes=log_dict['args']['min_n_nodes'],\n",
    "    max_n_nodes=log_dict['args']['max_n_nodes'],\n",
    "    device=device\n",
    ")\n",
    "valid_set = dataset[log_dict['valid_idx']]\n",
    "test_set = dataset[log_dict['test_idx']]"
   ]
  },
  {
   "cell_type": "markdown",
   "id": "0b1adc46",
   "metadata": {},
   "source": [
    "# threshold tuning"
   ]
  },
  {
   "cell_type": "code",
   "execution_count": null,
   "id": "91d2a394",
   "metadata": {},
   "outputs": [],
   "source": [
    "threshold = model.threshold_tuning(valid_set, n_evaluations=2, n_steps=100)\n",
    "print('Best threshold: ', threshold)"
   ]
  },
  {
   "cell_type": "markdown",
   "id": "3839ead6",
   "metadata": {},
   "source": [
    "# test persistency - f1 score"
   ]
  },
  {
   "cell_type": "code",
   "execution_count": null,
   "id": "19e51dbf",
   "metadata": {},
   "outputs": [],
   "source": [
    "results = model.eval_persistency(test_set, threshold=threshold, n_evaluations=1)"
   ]
  },
  {
   "cell_type": "code",
   "execution_count": null,
   "id": "c8dd1da1",
   "metadata": {},
   "outputs": [],
   "source": [
    "n_steps = results.keys()\n",
    "f1_avg = [results[n_step]['f1'][0] for n_step in results]\n",
    "f1_std = [results[n_step]['f1'][1] for n_step in results]\n",
    "fig, ax = plt.subplots(figsize=(10, 4))\n",
    "plot_trend(n_steps, f1_avg, f1_std, ylim=[0.5, 1.0], x_label='$t$', y_label='f1 score', ax=ax)"
   ]
  },
  {
   "cell_type": "markdown",
   "id": "80f94491",
   "metadata": {},
   "source": [
    "# plot a random test reconstruction - run many times for different results!"
   ]
  },
  {
   "cell_type": "code",
   "execution_count": null,
   "id": "b215e08f",
   "metadata": {},
   "outputs": [],
   "source": [
    "pred_edge_index_list = model.eval_dataset(test_set, n_steps=100, threshold=threshold)[1]"
   ]
  },
  {
   "cell_type": "code",
   "execution_count": null,
   "id": "ac6ac5a7",
   "metadata": {},
   "outputs": [],
   "source": [
    "fig, axs = plt.subplots(1, 2, figsize=(8, 4))\n",
    "idx = np.random.randint(len(test_set))\n",
    "coord = plot_edge_index(test_set[idx].edge_index, title='true edges', return_coord=True, ax=axs[0], show_ax_values=False, num_nodes=test_set[idx].num_nodes)\n",
    "f1 = edge_cm(test_set[idx].edge_index, pred_edge_index_list[idx], test_set[idx].num_nodes, return_f1=True)[1]\n",
    "plot_edge_index(pred_edge_index_list[idx], coord=coord, title='pred edges | f1=%.2f' % f1, ax=axs[1], show_ax_values=False, num_nodes=test_set[idx].num_nodes)"
   ]
  },
  {
   "cell_type": "markdown",
   "id": "5fa4ebe2",
   "metadata": {},
   "source": [
    "# plot dynamics in 3D (only works when coord dim is 3, obv)"
   ]
  },
  {
   "cell_type": "code",
   "execution_count": 21,
   "id": "88e3279d",
   "metadata": {},
   "outputs": [],
   "source": [
    "assert model.encoder.coord_dim == 3, 'Told you, only works if coord dim is 3'\n",
    "\n",
    "idx = np.random.randint(len(test_set))\n",
    "with torch.no_grad():\n",
    "    inter_coords = model.encoder(test_set[idx].edge_index, n_steps=50, return_inter_states=True, dtype=model.dtype)[0]"
   ]
  },
  {
   "cell_type": "code",
   "execution_count": null,
   "id": "fd693f86",
   "metadata": {},
   "outputs": [],
   "source": [
    "def animate(i):\n",
    "    ax.clear()\n",
    "    bce = model.decoder.bce(inter_coords[i], test_set[idx].edge_index, test_set[idx].neg_edge_index).item()\n",
    "    title = '$t=%d \\quad \\mathcal{L}_{\\mathsf{BCE}} = %.2f$' % (i, bce)\n",
    "    plot_edge_index(test_set[idx].edge_index, coord=inter_coords[i], title=title, ax=ax, box_dim=2, show_grid=True, show_ax_values=True, transparent=False)\n",
    "\n",
    "fig = plt.figure()\n",
    "fig.tight_layout()\n",
    "ax = fig.add_subplot(projection='3d')\n",
    "ani = animation.FuncAnimation(fig, animate, frames=range(len(inter_coords)), interval=500, repeat=False)\n",
    "# ani.save('regenerate.gif', dpi=300, writer=animation.PillowWriter(fps=2))"
   ]
  }
 ],
 "metadata": {
  "kernelspec": {
   "display_name": "Python 3",
   "language": "python",
   "name": "python3"
  },
  "language_info": {
   "codemirror_mode": {
    "name": "ipython",
    "version": 3
   },
   "file_extension": ".py",
   "mimetype": "text/x-python",
   "name": "python",
   "nbconvert_exporter": "python",
   "pygments_lexer": "ipython3",
   "version": "3.10.14"
  }
 },
 "nbformat": 4,
 "nbformat_minor": 5
}
